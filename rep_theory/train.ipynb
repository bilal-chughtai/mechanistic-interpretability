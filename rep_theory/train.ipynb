{
 "cells": [
  {
   "cell_type": "markdown",
   "metadata": {},
   "source": [
    "# Setup"
   ]
  },
  {
   "cell_type": "code",
   "execution_count": null,
   "metadata": {},
   "outputs": [],
   "source": [
    "!nvidia-smi \n",
    "import sys\n",
    "sys.path.append('../')"
   ]
  },
  {
   "cell_type": "markdown",
   "metadata": {},
   "source": [
    "## Imports"
   ]
  },
  {
   "cell_type": "code",
   "execution_count": null,
   "metadata": {},
   "outputs": [],
   "source": [
    "import torch\n",
    "import torch.nn as nn\n",
    "import torch.nn.functional as F\n",
    "import torch.optim as optim\n",
    "import numpy as np\n",
    "import pandas as pd\n",
    "import einops\n",
    "\n",
    "import json\n",
    "\n",
    "from tqdm.notebook import tqdm\n",
    "\n",
    "# plotting\n",
    "from functools import partial\n",
    "import matplotlib.pyplot as plt\n",
    "%matplotlib inline\n",
    "import plotly.express as px\n",
    "import plotly.io as pio\n",
    "import plotly.graph_objects as go\n",
    "pio.renderers.default = \"vscode\"\n",
    "\n",
    "# my own tooling\n",
    "from utils.hook_points import HookPoint, HookedRootModule\n",
    "from utils.plotting import *\n",
    "from utils.groups import *\n",
    "from utils.models import *\n"
   ]
  },
  {
   "cell_type": "code",
   "execution_count": null,
   "metadata": {},
   "outputs": [],
   "source": [
    "if torch.cuda.is_available:\n",
    "  print('Good to go!')\n",
    "else:\n",
    "  print('Training might be rather slow')"
   ]
  },
  {
   "cell_type": "markdown",
   "metadata": {},
   "source": [
    "## Model Training\n"
   ]
  },
  {
   "cell_type": "code",
   "execution_count": null,
   "metadata": {},
   "outputs": [],
   "source": [
    "train = True\n",
    "\n",
    "task_dir = \"1L_MLP_mod_add\"\n",
    "seed, frac_train, layers, lr, group_param, weight_decay, num_epochs, group_type, architecture_type = load_cfg(task_dir)\n",
    "group = group_type(group_param)\n",
    "\n",
    "if train:\n",
    "\n",
    "    train_data, test_data, train_labels, test_labels = generate_train_test_data(group, frac_train, seed)\n",
    "\n",
    "    train_losses = []\n",
    "    test_losses = []\n",
    "    train_accs = []\n",
    "    test_accs = []\n",
    "\n",
    "    model = architecture_type(layers, group.order, seed)\n",
    "    model.cuda()\n",
    "    optimizer = torch.optim.AdamW(model.parameters(), lr=lr, weight_decay=weight_decay)\n",
    "\n",
    "    for epoch in tqdm(range(num_epochs)):\n",
    "        train_logits = model(train_data)\n",
    "        train_loss = loss_fn(train_logits, train_labels)\n",
    "        train_loss.backward()\n",
    "        optimizer.step()\n",
    "        optimizer.zero_grad()\n",
    "        train_losses.append(train_loss.item())\n",
    "        with torch.inference_mode():\n",
    "            test_logits = model(test_data)\n",
    "            test_loss = loss_fn(test_logits, test_labels)\n",
    "            test_losses.append(test_loss.item())\n",
    "            train_acc = (train_logits.argmax(1)==train_labels).sum()/len(train_labels)\n",
    "            test_acc = (test_logits.argmax(1)==test_labels).sum()/len(test_labels)\n",
    "            train_accs.append(train_acc.item())\n",
    "            test_accs.append(test_acc.item())\n",
    "        if epoch%1000 == 0:\n",
    "            print(f\"Epoch:{epoch}, Train: L: {train_losses[-1]:.6f} A: {train_accs[-1]*100:.4f}, Test: L: {test_losses[-1]:.6f} A: {test_accs[-1]*100:.4f}%\")\n",
    "        if epoch%50000 == 0 and epoch>0:\n",
    "            lines([train_losses, test_losses], log_y=True, labels=['train loss', 'test loss'])\n",
    "            lines([train_accs, test_accs], log_y=False, labels=['train acc', 'test acc'])\n",
    "\n",
    "    # Save model\n",
    "    torch.save(model.state_dict(), f\"{task_dir}/model.pt\")\n",
    "    lines([train_losses, test_losses], log_y=True, labels=['train loss', 'test loss'], save=f\"{task_dir}/loss.png\")\n",
    "    lines([train_accs, test_accs], log_y=False, labels=['train acc', 'test acc'], save=f\"{task_dir}/acc.png\")\n"
   ]
  }
 ],
 "metadata": {
  "kernelspec": {
   "display_name": "Python 3.8.10 ('venv': venv)",
   "language": "python",
   "name": "python3"
  },
  "language_info": {
   "codemirror_mode": {
    "name": "ipython",
    "version": 3
   },
   "file_extension": ".py",
   "mimetype": "text/x-python",
   "name": "python",
   "nbconvert_exporter": "python",
   "pygments_lexer": "ipython3",
   "version": "3.8.10"
  },
  "orig_nbformat": 4,
  "vscode": {
   "interpreter": {
    "hash": "2132269f5a2133219c4d2300f20c817fe4655a4b6c81d581573bf57d15b76d41"
   }
  }
 },
 "nbformat": 4,
 "nbformat_minor": 2
}
