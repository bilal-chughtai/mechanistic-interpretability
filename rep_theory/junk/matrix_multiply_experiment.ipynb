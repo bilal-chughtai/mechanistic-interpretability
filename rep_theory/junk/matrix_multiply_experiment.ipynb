{
 "cells": [
  {
   "cell_type": "code",
   "execution_count": null,
   "metadata": {},
   "outputs": [],
   "source": [
    "import torch\n",
    "from tqdm.notebook import tqdm\n",
    "\n",
    "# plotting\n",
    "import plotly.io as pio\n",
    "pio.renderers.default = \"vscode\"\n",
    "\n",
    "if torch.cuda.is_available:\n",
    "  print('CUDA available!')\n",
    "else:\n",
    "  print('CUDA not available!')"
   ]
  },
  {
   "cell_type": "code",
   "execution_count": null,
   "metadata": {},
   "outputs": [],
   "source": [
    "def generate_data(frac_train, seed):\n",
    "    torch.manual_seed(seed)\n",
    "    data = torch.randint(0, 1000, (1000, 2))\n",
    "    labels = data[:, 0] * data[:, 1]\n",
    "    "
   ]
  },
  {
   "cell_type": "code",
   "execution_count": null,
   "metadata": {},
   "outputs": [],
   "source": [
    "\n",
    "\n",
    "train_data, test_data, train_labels, test_labels = generate_train_test_data(frac_train, seed)\n",
    "\n",
    "train_losses = []\n",
    "test_losses = []\n",
    "train_accs = []\n",
    "test_accs = []\n",
    "\n",
    "print('Initializing model...')\n",
    "model = torch.nn.Sequential(\n",
    "    torch.nn.Linear(2, 2),\n",
    "    torch.nn.ReLU(),\n",
    ")\n",
    "model.cuda()\n",
    "\n",
    "num_epochs = 1000\n",
    "optimizer = torch.optim.AdamW(model.parameters(), lr=0.01, weight_decay=1)\n",
    "\n",
    "print('Training...')\n",
    "for epoch in tqdm(range(num_epochs)):\n",
    "    train_logits = model(train_data)\n",
    "    train_loss = loss_fn(train_logits, train_labels)\n",
    "    train_loss.backward()\n",
    "    optimizer.step()\n",
    "    optimizer.zero_grad()\n",
    "    train_losses.append(train_loss.item())\n",
    "    with torch.inference_mode():\n",
    "        metric = metrics.get_metrics(model, train_logits, train_loss)\n",
    "        test_losses.append(metric['test_loss'])\n",
    "        train_accs.append(metric['train_acc'])\n",
    "        test_accs.append(metric['test_acc'])\n",
    "        wandb.log(metric)\n",
    "\n",
    "    if epoch%1000 == 0:\n",
    "        print(f\"Epoch:{epoch}, Train: L: {train_losses[-1]:.6f} A: {train_accs[-1]*100:.4f}%, Test: L: {test_losses[-1]:.6f} A: {test_accs[-1]*100:.4f}%\")\n",
    "\n",
    "lines([train_losses, test_losses], log_y=True, labels=['train loss', 'test loss'], save=f\"{task_dir}/loss.png\")\n",
    "lines([train_accs, test_accs], log_y=False, labels=['train acc', 'test acc'], save=f\"{task_dir}/acc.png\")\n",
    "torch.save(model.state_dict(), f\"{task_dir}/model.pt\")\n"
   ]
  }
 ],
 "metadata": {
  "kernelspec": {
   "display_name": "Python 3.8.10 ('venv': venv)",
   "language": "python",
   "name": "python3"
  },
  "language_info": {
   "name": "python",
   "version": "3.8.10"
  },
  "orig_nbformat": 4,
  "vscode": {
   "interpreter": {
    "hash": "2132269f5a2133219c4d2300f20c817fe4655a4b6c81d581573bf57d15b76d41"
   }
  }
 },
 "nbformat": 4,
 "nbformat_minor": 2
}
