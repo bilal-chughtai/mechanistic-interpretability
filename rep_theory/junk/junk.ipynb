{
 "cells": [
  {
   "cell_type": "code",
   "execution_count": 5,
   "metadata": {},
   "outputs": [
    {
     "name": "stdout",
     "output_type": "stream",
     "text": [
      "percent_unembed_trivial_rep 0.0021777499932795763\n",
      "percent_unembed_freq_1_rep 0.010858744382858276\n",
      "percent_unembed_freq_2_rep 0.1644895225763321\n",
      "percent_unembed_freq_3_rep 0.013384999707341194\n",
      "percent_unembed_freq_4_rep 0.017748866230249405\n",
      "percent_unembed_freq_5_rep 0.016820373013615608\n",
      "percent_unembed_freq_6_rep 0.11803767085075378\n",
      "percent_unembed_freq_7_rep 0.014681228436529636\n",
      "percent_unembed_freq_8_rep 0.013212202116847038\n",
      "percent_unembed_freq_9_rep 0.013538320548832417\n",
      "percent_unembed_freq_10_rep 0.015677403658628464\n",
      "percent_unembed_freq_11_rep 0.01623409613966942\n",
      "percent_unembed_freq_12_rep 0.10665836930274963\n",
      "percent_unembed_freq_13_rep 0.01505298726260662\n",
      "percent_unembed_freq_14_rep 0.01345969457179308\n",
      "percent_unembed_freq_15_rep 0.14385470747947693\n",
      "percent_unembed_freq_16_rep 0.01608097366988659\n",
      "percent_unembed_freq_17_rep 0.016318168491125107\n",
      "percent_unembed_freq_18_rep 0.017450453713536263\n",
      "percent_unembed_freq_19_rep 0.01468089409172535\n",
      "percent_unembed_freq_20_rep 0.017742428928613663\n",
      "percent_unembed_freq_21_rep 0.016307925805449486\n",
      "percent_unembed_freq_22_rep 0.020243022590875626\n",
      "percent_unembed_freq_23_rep 0.016128987073898315\n",
      "percent_unembed_freq_24_rep 0.14461860060691833\n",
      "percent_unembed_freq_25_rep 0.029176317155361176\n",
      "percent_unembed_freq_26_rep 0.01509297825396061\n",
      "percent_unembed_freq_27_rep 0.015858609229326248\n",
      "percent_unembed_freq_28_rep 0.018584495410323143\n",
      "percent_unembed_freq_29_rep 0.012933604419231415\n",
      "percent_unembed_freq_30_rep 0.02446514554321766\n",
      "percent_unembed_freq_31_rep 0.01920783519744873\n",
      "percent_unembed_freq_32_rep 0.01971420831978321\n",
      "percent_unembed_freq_33_rep 0.012711362913250923\n",
      "percent_unembed_freq_34_rep 0.015537744387984276\n",
      "percent_unembed_freq_35_rep 0.015872428193688393\n",
      "percent_unembed_freq_36_rep 0.011846339330077171\n",
      "percent_unembed_freq_37_rep 0.016102107241749763\n",
      "percent_unembed_freq_38_rep 0.015700994059443474\n",
      "percent_unembed_freq_39_rep 0.016698671504855156\n",
      "percent_unembed_freq_40_rep 0.019950104877352715\n",
      "percent_unembed_freq_41_rep 0.017614107578992844\n",
      "percent_unembed_freq_42_rep 0.014804394915699959\n",
      "percent_unembed_freq_43_rep 0.13682153820991516\n",
      "percent_unembed_freq_44_rep 0.1253923922777176\n",
      "percent_unembed_freq_45_rep 0.020502261817455292\n",
      "percent_unembed_freq_46_rep 0.012705257162451744\n",
      "percent_unembed_freq_47_rep 0.014556260779500008\n",
      "percent_unembed_freq_48_rep 0.021021028980612755\n",
      "percent_unembed_freq_49_rep 0.010522313416004181\n",
      "percent_unembed_freq_50_rep 0.017968617379665375\n",
      "percent_unembed_freq_51_rep 0.01541728712618351\n",
      "percent_unembed_freq_52_rep 0.01159098744392395\n",
      "percent_unembed_freq_53_rep 0.13171888887882233\n",
      "percent_unembed_freq_54_rep 0.014761419966816902\n",
      "percent_unembed_freq_55_rep 0.015525035560131073\n",
      "percent_unembed_freq_56_rep 0.01912902668118477\n",
      "percent_unembed_freq_57_rep 0.015414079651236534\n",
      "percent_unembed_freq_58_rep 0.015765467658638954\n",
      "percent_unembed_freq_59_rep 0.019775938242673874\n",
      "percent_unembed_freq_60_rep 0.0185462087392807\n",
      "percent_unembed_freq_61_rep 0.015262595377862453\n",
      "percent_unembed_freq_62_rep 0.014131062664091587\n",
      "percent_unembed_freq_63_rep 0.015206274576485157\n",
      "percent_unembed_freq_64_rep 0.016292786225676537\n",
      "percent_unembed_freq_65_rep 0.015515126287937164\n",
      "2.0008716948796064\n"
     ]
    }
   ],
   "source": [
    "import sys\n",
    "sys.path.append('../')\n",
    "path = '../experiments/1L_MLP_C131/summary_metrics.json'\n",
    "import json\n",
    "summary_metrics = json.load(open(path, 'r'))\n",
    "total = 0\n",
    "for key in summary_metrics.keys():\n",
    "    if 'percent_unembed' in key:\n",
    "        print(key, summary_metrics[key])\n",
    "        total += summary_metrics[key]\n",
    "print(total)\n"
   ]
  }
 ],
 "metadata": {
  "kernelspec": {
   "display_name": "Python 3.8.10 ('venv': venv)",
   "language": "python",
   "name": "python3"
  },
  "language_info": {
   "codemirror_mode": {
    "name": "ipython",
    "version": 3
   },
   "file_extension": ".py",
   "mimetype": "text/x-python",
   "name": "python",
   "nbconvert_exporter": "python",
   "pygments_lexer": "ipython3",
   "version": "3.8.10"
  },
  "orig_nbformat": 4,
  "vscode": {
   "interpreter": {
    "hash": "2132269f5a2133219c4d2300f20c817fe4655a4b6c81d581573bf57d15b76d41"
   }
  }
 },
 "nbformat": 4,
 "nbformat_minor": 2
}
