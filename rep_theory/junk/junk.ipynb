{
 "cells": [
  {
   "cell_type": "code",
   "execution_count": 2,
   "metadata": {},
   "outputs": [
    {
     "name": "stdout",
     "output_type": "stream",
     "text": [
      "percent_x_embed_trivial_rep 2.7415098884375766e-05\n",
      "percent_x_embed_sign_rep 9.369779036205728e-06\n",
      "percent_x_embed_freq_1_rep 0.14376318454742432\n",
      "percent_x_embed_freq_2_rep 8.091874769888818e-05\n",
      "percent_x_embed_freq_3_rep 0.0007609151070937514\n",
      "percent_x_embed_freq_4_rep 1.8196147721027955e-05\n",
      "percent_x_embed_freq_5_rep 0.00020351946295704693\n",
      "percent_x_embed_freq_6_rep 2.604256951599382e-05\n",
      "percent_x_embed_freq_7_rep 0.00038674549432471395\n",
      "percent_x_embed_freq_8_rep 1.945015901583247e-05\n",
      "percent_x_embed_freq_9_rep 3.0170087484293617e-05\n",
      "percent_x_embed_freq_10_rep 9.817711543291807e-06\n",
      "percent_x_embed_freq_11_rep 3.256629133829847e-05\n",
      "percent_x_embed_freq_12_rep 0.1269906759262085\n",
      "percent_x_embed_freq_13_rep 5.2154740842524916e-05\n",
      "percent_x_embed_freq_14_rep 1.2422473446349613e-05\n",
      "percent_x_embed_freq_15_rep 2.07438843062846e-05\n",
      "percent_x_embed_freq_16_rep 3.8044854591134936e-05\n",
      "percent_x_embed_freq_17_rep 0.000724479032214731\n",
      "percent_x_embed_freq_18_rep 2.1049174392828718e-05\n",
      "percent_x_embed_freq_19_rep 3.131450284854509e-05\n",
      "percent_x_embed_freq_20_rep 9.527208021609113e-06\n",
      "percent_x_embed_freq_21_rep 0.07977034151554108\n",
      "percent_x_embed_freq_22_rep 2.0329647668404505e-05\n",
      "percent_x_embed_freq_23_rep 0.08292470872402191\n",
      "percent_x_embed_freq_24_rep 1.6395362763432786e-05\n",
      "percent_x_embed_freq_25_rep 0.0003455088590271771\n",
      "percent_x_embed_freq_26_rep 2.068465983029455e-05\n",
      "percent_x_embed_freq_27_rep 0.060193199664354324\n",
      "percent_x_embed_freq_28_rep 2.1286521587171592e-05\n",
      "percent_x_embed_freq_29_rep 3.565528095350601e-05\n",
      "percent_x_embed_freq_30_rep 1.6150852388818748e-05\n",
      "percent_x_embed_freq_31_rep 0.15574303269386292\n",
      "percent_x_embed_freq_32_rep 1.1004662155755796e-05\n",
      "percent_x_embed_freq_33_rep 4.92372564622201e-05\n",
      "percent_x_embed_freq_34_rep 2.0019575458718464e-05\n",
      "percent_x_embed_freq_35_rep 1.6633824998280033e-05\n",
      "percent_x_embed_freq_36_rep 0.00030662628705613315\n",
      "percent_x_embed_freq_37_rep 0.13641206920146942\n",
      "percent_x_embed_freq_38_rep 1.8217766410089098e-05\n",
      "percent_x_embed_freq_39_rep 3.8816597225377336e-05\n",
      "percent_x_embed_freq_40_rep 0.1415228247642517\n",
      "percent_x_embed_freq_41_rep 2.69734828179935e-05\n",
      "percent_x_embed_freq_42_rep 1.5287299902411178e-05\n",
      "percent_x_embed_freq_43_rep 6.486454367404804e-05\n",
      "percent_x_embed_freq_44_rep 3.7789097405038774e-05\n",
      "percent_x_embed_freq_45_rep 0.06727878749370575\n",
      "percent_x_embed_freq_46_rep 1.9332070223754272e-05\n",
      "percent_x_embed_freq_47_rep 7.512053707614541e-05\n",
      "percent_x_embed_freq_48_rep 2.041234984062612e-05\n",
      "percent_x_embed_freq_49_rep 0.0006716695497743785\n",
      "percent_x_embed_freq_50_rep 1.8270524378749542e-05\n",
      "percent_x_embed_freq_51_rep 0.00016015353321563452\n",
      "percent_x_embed_freq_52_rep 1.500720827607438e-05\n",
      "percent_x_embed_freq_53_rep 1.9811652236967348e-05\n",
      "percent_x_embed_freq_54_rep 1.808943852665834e-05\n",
      "percent_x_embed_freq_55_rep 0.00045031780609861016\n",
      "percent_x_embed_freq_56_rep 1.9827344658551738e-05\n",
      "percent_x_embed_freq_57_rep 3.149341500829905e-05\n",
      "percent_x_embed_freq_58_rep 0.00028533092699944973\n",
      "1.0000000049922164\n"
     ]
    }
   ],
   "source": [
    "import sys\n",
    "sys.path.append('../')\n",
    "path = '../experiments/1L_MLP_C118/summary_metrics.json'\n",
    "import json\n",
    "from utils.plotting import *\n",
    "summary_metrics = json.load(open(path, 'r'))\n",
    "total = 0\n",
    "logits = []\n",
    "for key in summary_metrics.keys():\n",
    "    if 'percent_x_embed' in key:\n",
    "        print(key, summary_metrics[key])\n",
    "        total += summary_metrics[key]\n",
    "print(total)\n"
   ]
  }
 ],
 "metadata": {
  "kernelspec": {
   "display_name": "Python 3.8.10 ('venv': venv)",
   "language": "python",
   "name": "python3"
  },
  "language_info": {
   "codemirror_mode": {
    "name": "ipython",
    "version": 3
   },
   "file_extension": ".py",
   "mimetype": "text/x-python",
   "name": "python",
   "nbconvert_exporter": "python",
   "pygments_lexer": "ipython3",
   "version": "3.8.10"
  },
  "orig_nbformat": 4,
  "vscode": {
   "interpreter": {
    "hash": "2132269f5a2133219c4d2300f20c817fe4655a4b6c81d581573bf57d15b76d41"
   }
  }
 },
 "nbformat": 4,
 "nbformat_minor": 2
}
