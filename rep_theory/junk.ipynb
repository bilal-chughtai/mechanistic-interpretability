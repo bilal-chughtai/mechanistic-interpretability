{
 "cells": [
  {
   "cell_type": "code",
   "execution_count": null,
   "metadata": {},
   "outputs": [
    {
     "name": "stdout",
     "output_type": "stream",
     "text": [
      "[Permutation(0, 1, 2, 3, 4, 5), Permutation(5)(0, 1)]\n"
     ]
    },
    {
     "ename": "AttributeError",
     "evalue": "'PermutationGroup' object has no attribute 'representation'",
     "output_type": "error",
     "traceback": [
      "\u001b[0;31m---------------------------------------------------------------------------\u001b[0m",
      "\u001b[0;31mAttributeError\u001b[0m                            Traceback (most recent call last)",
      "Cell \u001b[0;32mIn [2], line 4\u001b[0m\n\u001b[1;32m      2\u001b[0m G \u001b[39m=\u001b[39m sympySG(\u001b[39m6\u001b[39m)\n\u001b[1;32m      3\u001b[0m \u001b[39mprint\u001b[39m(G\u001b[39m.\u001b[39mgenerators)\n\u001b[0;32m----> 4\u001b[0m \u001b[39mprint\u001b[39m(G\u001b[39m.\u001b[39;49mrepresentation)\n",
      "\u001b[0;31mAttributeError\u001b[0m: 'PermutationGroup' object has no attribute 'representation'"
     ]
    }
   ],
   "source": [
    "from sympy.combinatorics.named_groups import SymmetricGroup as sympySG\n",
    "G = sympySG(6)\n",
    "print(G.generators)\n",
    "print(G.repr\n",
    "\n",
    "s6_5d_a_generators = {}\n",
    "s6_5d_a_generators[Permutation(0, 1, 2, 3, 4, 5)] = torch.tensor([\n",
    "    [-1,  1, -1,  0,  0],\n",
    "    [ 0,  0,  0,  1, -1],\n",
    "    [ 0,  0,  1,  0, -1],\n",
    "    [ 0, -1,  1,  1, -1],\n",
    "    [ 0, -1,  1,  0, -1]]).float() \n",
    "s6_5d_a_generators[Permutation(5, 4, 3, 2, 1, 0)] = s6_5d_a_generators[Permutation(0, 1, 2, 3, 4, 5)].inverse()\n",
    "s6_5d_a_generators[Permutation(5)(0,1)] = torch.tensor([\n",
    "    [ 1,  0,  0,  0,  0],\n",
    "    [ 0,  1,  0,  0,  0],\n",
    "    [ 0,  0,  1,  0,  0],\n",
    "    [-1,  1,  0, -1,  0],\n",
    "    [-1,  0,  1,  0, -1]],\n",
    ").float() "
   ]
  }
 ],
 "metadata": {
  "kernelspec": {
   "display_name": "Python 3.8.10 ('venv': venv)",
   "language": "python",
   "name": "python3"
  },
  "language_info": {
   "codemirror_mode": {
    "name": "ipython",
    "version": 3
   },
   "file_extension": ".py",
   "mimetype": "text/x-python",
   "name": "python",
   "nbconvert_exporter": "python",
   "pygments_lexer": "ipython3",
   "version": "3.8.10"
  },
  "orig_nbformat": 4,
  "vscode": {
   "interpreter": {
    "hash": "2132269f5a2133219c4d2300f20c817fe4655a4b6c81d581573bf57d15b76d41"
   }
  }
 },
 "nbformat": 4,
 "nbformat_minor": 2
}
